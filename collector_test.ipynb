{
 "cells": [
  {
   "cell_type": "code",
   "execution_count": 26,
   "metadata": {},
   "outputs": [
    {
     "name": "stdout",
     "output_type": "stream",
     "text": [
      "<class 'dict'>\n",
      "<class 'dict'>\n",
      "1  dict_keys(['__name__', '__doc__', '__package__', '__loader__', '__spec__', '__builtin__', '__builtins__', '_ih', '_oh', '_dh', 'In', 'Out', 'get_ipython', 'exit', 'quit', 'open', '_', '__', '___', '__vsc_ipynb_file__', '_i', '_ii', '_iii', '_i1', 'gc', 'a', 'b', 'c', '_i2', 'create_list', 'returned_list', '_i3', '_i4', '_i5', '_i6', '_i7', '_i8', '_i9', '_i10', '_i11', '_i12', '_i13', '_i14', '_i15', 'sys', 'lista', '_i16', '_i17', '_i18', '_i19', '_i20', '_i21', '_i22', '_i23', '_i24', '_i25', '_i26'])\n",
      "1. dict_keys(['__name__', '__doc__', '__package__', '__loader__', '__spec__', '__builtin__', '__builtins__', '_ih', '_oh', '_dh', 'In', 'Out', 'get_ipython', 'exit', 'quit', 'open', '_', '__', '___', '__vsc_ipynb_file__', '_i', '_ii', '_iii', '_i1', 'gc', 'a', 'b', 'c', '_i2', 'create_list', 'returned_list', '_i3', '_i4', '_i5', '_i6', '_i7', '_i8', '_i9', '_i10', '_i11', '_i12', '_i13', '_i14', '_i15', 'sys', 'lista', '_i16', '_i17', '_i18', '_i19', '_i20', '_i21', '_i22', '_i23', '_i24', '_i25', '_i26'])\n",
      "l: dict_keys(['__name__', '__doc__', '__package__', '__loader__', '__spec__', '__builtin__', '__builtins__', '_ih', '_oh', '_dh', 'In', 'Out', 'get_ipython', 'exit', 'quit', 'open', '_', '__', '___', '__vsc_ipynb_file__', '_i', '_ii', '_iii', '_i1', 'gc', 'a', 'b', 'c', '_i2', 'create_list', 'returned_list', '_i3', '_i4', '_i5', '_i6', '_i7', '_i8', '_i9', '_i10', '_i11', '_i12', '_i13', '_i14', '_i15', 'sys', 'lista', '_i16', '_i17', '_i18', '_i19', '_i20', '_i21', '_i22', '_i23', '_i24', '_i25', '_i26'])\n",
      "g: ['__name__', '__doc__', '__package__', '__loader__', '__spec__', '__builtin__', '__builtins__', '_ih', '_oh', '_dh', 'In', 'Out', 'get_ipython', 'exit', 'quit', 'open', '_', '__', '___', '__vsc_ipynb_file__', '_i', '_ii', '_iii', '_i1', 'gc', 'a', 'b', 'c', '_i2', 'create_list', 'returned_list', '_i3', '_i4', '_i5', '_i6', '_i7', '_i8', '_i9', '_i10', '_i11', '_i12', '_i13', '_i14', '_i15', 'sys', 'lista', '_i16', '_i17', '_i18', '_i19', '_i20', '_i21', '_i22', '_i23', '_i24', '_i25', '_i26']\n",
      "2g dict_keys(['__name__', '__doc__', '__package__', '__loader__', '__spec__', '__builtin__', '__builtins__', '_ih', '_oh', '_dh', 'In', 'Out', 'get_ipython', 'exit', 'quit', 'open', '_', '__', '___', '__vsc_ipynb_file__', '_i', '_ii', '_iii', '_i1', 'gc', 'a', 'b', 'c', '_i2', 'create_list', 'returned_list', '_i3', '_i4', '_i5', '_i6', '_i7', '_i8', '_i9', '_i10', '_i11', '_i12', '_i13', '_i14', '_i15', 'sys', 'lista', '_i16', '_i17', '_i18', '_i19', '_i20', '_i21', '_i22', '_i23', '_i24', '_i25', '_i26'])\n",
      "2l dict_keys(['my_list'])\n",
      "2. {'my_list': [1, 2, 3]}\n",
      "3  dict_keys(['__name__', '__doc__', '__package__', '__loader__', '__spec__', '__builtin__', '__builtins__', '_ih', '_oh', '_dh', 'In', 'Out', 'get_ipython', 'exit', 'quit', 'open', '_', '__', '___', '__vsc_ipynb_file__', '_i', '_ii', '_iii', '_i1', 'gc', 'a', 'b', 'c', '_i2', 'create_list', 'returned_list', '_i3', '_i4', '_i5', '_i6', '_i7', '_i8', '_i9', '_i10', '_i11', '_i12', '_i13', '_i14', '_i15', 'sys', 'lista', '_i16', '_i17', '_i18', '_i19', '_i20', '_i21', '_i22', '_i23', '_i24', '_i25', '_i26'])\n",
      "3. dict_keys(['__name__', '__doc__', '__package__', '__loader__', '__spec__', '__builtin__', '__builtins__', '_ih', '_oh', '_dh', 'In', 'Out', 'get_ipython', 'exit', 'quit', 'open', '_', '__', '___', '__vsc_ipynb_file__', '_i', '_ii', '_iii', '_i1', 'gc', 'a', 'b', 'c', '_i2', 'create_list', 'returned_list', '_i3', '_i4', '_i5', '_i6', '_i7', '_i8', '_i9', '_i10', '_i11', '_i12', '_i13', '_i14', '_i15', 'sys', 'lista', '_i16', '_i17', '_i18', '_i19', '_i20', '_i21', '_i22', '_i23', '_i24', '_i25', '_i26'])\n"
     ]
    }
   ],
   "source": [
    "import gc\n",
    "import sys\n",
    "\n",
    "# create some objects\n",
    "a = [1, 2, 3]\n",
    "b = [4, 5, 6]\n",
    "c = [a, b]\n",
    "\n",
    "print(type(globals()))\n",
    "print(type(locals()))\n",
    "\n",
    "print(\"1 \", globals().keys())\n",
    "print(\"1.\", locals().keys())\n",
    "\n",
    "def create_list():\n",
    "    my_list = [1, 2, 3]\n",
    "    print(\"2g\", globals().keys())\n",
    "    # print out the keys and contents of the local namespace separately\n",
    "    print(\"2l\", locals().keys())\n",
    "    print(\"2.\", locals())\n",
    "    return my_list\n",
    "\n",
    "lista = locals().keys()\n",
    "print('l:', lista, locals().keys())\n",
    "print('g:', list(globals().keys()))\n",
    "\n",
    "returned_list = create_list()\n",
    "\n",
    "print(\"3 \", globals().keys())\n",
    "print(\"3.\", locals().keys())\n",
    "\n",
    "#print([name for name in locals().keys() if not name.startswith('__')])\n",
    "\n",
    "# # use get_objects() to see all objects tracked by the garbage collector\n",
    "# print(gc.get_objects())\n",
    "\n",
    "# # remove references to a, b, and c so they are no longer needed\n",
    "# del a, b, c\n",
    "\n",
    "# # call the garbage collector to remove unreferenced objects\n",
    "# gc.collect()\n",
    "\n",
    "# # use get_objects() to see all objects tracked by the garbage collector\n",
    "# print(gc.get_objects())"
   ]
  },
  {
   "cell_type": "code",
   "execution_count": null,
   "metadata": {},
   "outputs": [],
   "source": []
  }
 ],
 "metadata": {
  "kernelspec": {
   "display_name": ".venv",
   "language": "python",
   "name": "python3"
  },
  "language_info": {
   "codemirror_mode": {
    "name": "ipython",
    "version": 3
   },
   "file_extension": ".py",
   "mimetype": "text/x-python",
   "name": "python",
   "nbconvert_exporter": "python",
   "pygments_lexer": "ipython3",
   "version": "3.11.3"
  },
  "orig_nbformat": 4
 },
 "nbformat": 4,
 "nbformat_minor": 2
}
